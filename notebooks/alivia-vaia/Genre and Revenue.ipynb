{
 "cells": [
  {
   "cell_type": "markdown",
   "metadata": {},
   "source": [
    "# Exploring the Relationship Between Movie Genres and Gross Domestic Revenue\n",
    "\n",
    "For our first business insight, we will be researching and exploring how genre affects domestic revenue. This is relevant as very costly resources are allocated to creating movies and it is important to understand what genres perform the best prior to making a decision as to what kind of movies Computing Vision will make. Let's start by taking a look at our movie data.\n",
    "\n",
    "<img src=\"https://i0.wp.com/news.northeastern.edu/wp-content/uploads/2022/05/movie_theater_1400.jpg?w=1400&ssl=1\" width=500>\n",
    "\n",
    "Image Source: https://news.northeastern.edu/2022/05/26/movie-theater-hearing-damage/\n",
    "\n",
    "By Alivia and Vaia"
   ]
  },
  {
   "cell_type": "code",
   "execution_count": 2,
   "metadata": {},
   "outputs": [],
   "source": [
    "import pandas as pd\n",
    "import numpy as np\n",
    "import sqlite3\n",
    "import matplotlib.pyplot as plt\n",
    "import seaborn as sns\n",
    "import scipy.stats as stats\n",
    "from math import sqrt\n",
    "%matplotlib inline\n"
   ]
  },
  {
   "cell_type": "code",
   "execution_count": 3,
   "metadata": {},
   "outputs": [],
   "source": [
    "# connect to sqlite database to import data and view genres of movies\n",
    "conn = sqlite3.connect(\"../../zippedData/im.db\")\n",
    "imbd = pd.read_sql('''\n",
    "SELECT *\n",
    "FROM movie_basics\n",
    "\n",
    "''', conn)"
   ]
  },
  {
   "cell_type": "code",
   "execution_count": 4,
   "metadata": {},
   "outputs": [
    {
     "data": {
      "text/html": [
       "<div>\n",
       "<style scoped>\n",
       "    .dataframe tbody tr th:only-of-type {\n",
       "        vertical-align: middle;\n",
       "    }\n",
       "\n",
       "    .dataframe tbody tr th {\n",
       "        vertical-align: top;\n",
       "    }\n",
       "\n",
       "    .dataframe thead th {\n",
       "        text-align: right;\n",
       "    }\n",
       "</style>\n",
       "<table border=\"1\" class=\"dataframe\">\n",
       "  <thead>\n",
       "    <tr style=\"text-align: right;\">\n",
       "      <th></th>\n",
       "      <th>movie_id</th>\n",
       "      <th>primary_title</th>\n",
       "      <th>original_title</th>\n",
       "      <th>start_year</th>\n",
       "      <th>runtime_minutes</th>\n",
       "      <th>genres</th>\n",
       "    </tr>\n",
       "  </thead>\n",
       "  <tbody>\n",
       "    <tr>\n",
       "      <th>0</th>\n",
       "      <td>tt0063540</td>\n",
       "      <td>Sunghursh</td>\n",
       "      <td>Sunghursh</td>\n",
       "      <td>2013</td>\n",
       "      <td>175.0</td>\n",
       "      <td>Action,Crime,Drama</td>\n",
       "    </tr>\n",
       "    <tr>\n",
       "      <th>1</th>\n",
       "      <td>tt0066787</td>\n",
       "      <td>One Day Before the Rainy Season</td>\n",
       "      <td>Ashad Ka Ek Din</td>\n",
       "      <td>2019</td>\n",
       "      <td>114.0</td>\n",
       "      <td>Biography,Drama</td>\n",
       "    </tr>\n",
       "    <tr>\n",
       "      <th>2</th>\n",
       "      <td>tt0069049</td>\n",
       "      <td>The Other Side of the Wind</td>\n",
       "      <td>The Other Side of the Wind</td>\n",
       "      <td>2018</td>\n",
       "      <td>122.0</td>\n",
       "      <td>Drama</td>\n",
       "    </tr>\n",
       "    <tr>\n",
       "      <th>3</th>\n",
       "      <td>tt0069204</td>\n",
       "      <td>Sabse Bada Sukh</td>\n",
       "      <td>Sabse Bada Sukh</td>\n",
       "      <td>2018</td>\n",
       "      <td>NaN</td>\n",
       "      <td>Comedy,Drama</td>\n",
       "    </tr>\n",
       "    <tr>\n",
       "      <th>4</th>\n",
       "      <td>tt0100275</td>\n",
       "      <td>The Wandering Soap Opera</td>\n",
       "      <td>La Telenovela Errante</td>\n",
       "      <td>2017</td>\n",
       "      <td>80.0</td>\n",
       "      <td>Comedy,Drama,Fantasy</td>\n",
       "    </tr>\n",
       "  </tbody>\n",
       "</table>\n",
       "</div>"
      ],
      "text/plain": [
       "    movie_id                    primary_title              original_title  \\\n",
       "0  tt0063540                        Sunghursh                   Sunghursh   \n",
       "1  tt0066787  One Day Before the Rainy Season             Ashad Ka Ek Din   \n",
       "2  tt0069049       The Other Side of the Wind  The Other Side of the Wind   \n",
       "3  tt0069204                  Sabse Bada Sukh             Sabse Bada Sukh   \n",
       "4  tt0100275         The Wandering Soap Opera       La Telenovela Errante   \n",
       "\n",
       "   start_year  runtime_minutes                genres  \n",
       "0        2013            175.0    Action,Crime,Drama  \n",
       "1        2019            114.0       Biography,Drama  \n",
       "2        2018            122.0                 Drama  \n",
       "3        2018              NaN          Comedy,Drama  \n",
       "4        2017             80.0  Comedy,Drama,Fantasy  "
      ]
     },
     "execution_count": 4,
     "metadata": {},
     "output_type": "execute_result"
    }
   ],
   "source": [
    "# preview data\n",
    "imbd.head()"
   ]
  },
  {
   "cell_type": "code",
   "execution_count": 5,
   "metadata": {},
   "outputs": [
    {
     "name": "stdout",
     "output_type": "stream",
     "text": [
      "<class 'pandas.core.frame.DataFrame'>\n",
      "RangeIndex: 146144 entries, 0 to 146143\n",
      "Data columns (total 6 columns):\n",
      " #   Column           Non-Null Count   Dtype  \n",
      "---  ------           --------------   -----  \n",
      " 0   movie_id         146144 non-null  object \n",
      " 1   primary_title    146144 non-null  object \n",
      " 2   original_title   146123 non-null  object \n",
      " 3   start_year       146144 non-null  int64  \n",
      " 4   runtime_minutes  114405 non-null  float64\n",
      " 5   genres           140736 non-null  object \n",
      "dtypes: float64(1), int64(1), object(4)\n",
      "memory usage: 6.7+ MB\n"
     ]
    }
   ],
   "source": [
    "# view data cleanliness and null values\n",
    "imbd.info()"
   ]
  },
  {
   "cell_type": "code",
   "execution_count": 6,
   "metadata": {},
   "outputs": [
    {
     "data": {
      "text/html": [
       "<div>\n",
       "<style scoped>\n",
       "    .dataframe tbody tr th:only-of-type {\n",
       "        vertical-align: middle;\n",
       "    }\n",
       "\n",
       "    .dataframe tbody tr th {\n",
       "        vertical-align: top;\n",
       "    }\n",
       "\n",
       "    .dataframe thead th {\n",
       "        text-align: right;\n",
       "    }\n",
       "</style>\n",
       "<table border=\"1\" class=\"dataframe\">\n",
       "  <thead>\n",
       "    <tr style=\"text-align: right;\">\n",
       "      <th></th>\n",
       "      <th>id</th>\n",
       "      <th>release_date</th>\n",
       "      <th>movie</th>\n",
       "      <th>production_budget</th>\n",
       "      <th>domestic_gross</th>\n",
       "      <th>worldwide_gross</th>\n",
       "    </tr>\n",
       "  </thead>\n",
       "  <tbody>\n",
       "    <tr>\n",
       "      <th>0</th>\n",
       "      <td>1</td>\n",
       "      <td>Dec 18, 2009</td>\n",
       "      <td>Avatar</td>\n",
       "      <td>$425,000,000</td>\n",
       "      <td>$760,507,625</td>\n",
       "      <td>$2,776,345,279</td>\n",
       "    </tr>\n",
       "    <tr>\n",
       "      <th>1</th>\n",
       "      <td>2</td>\n",
       "      <td>May 20, 2011</td>\n",
       "      <td>Pirates of the Caribbean: On Stranger Tides</td>\n",
       "      <td>$410,600,000</td>\n",
       "      <td>$241,063,875</td>\n",
       "      <td>$1,045,663,875</td>\n",
       "    </tr>\n",
       "    <tr>\n",
       "      <th>2</th>\n",
       "      <td>3</td>\n",
       "      <td>Jun 7, 2019</td>\n",
       "      <td>Dark Phoenix</td>\n",
       "      <td>$350,000,000</td>\n",
       "      <td>$42,762,350</td>\n",
       "      <td>$149,762,350</td>\n",
       "    </tr>\n",
       "    <tr>\n",
       "      <th>3</th>\n",
       "      <td>4</td>\n",
       "      <td>May 1, 2015</td>\n",
       "      <td>Avengers: Age of Ultron</td>\n",
       "      <td>$330,600,000</td>\n",
       "      <td>$459,005,868</td>\n",
       "      <td>$1,403,013,963</td>\n",
       "    </tr>\n",
       "    <tr>\n",
       "      <th>4</th>\n",
       "      <td>5</td>\n",
       "      <td>Dec 15, 2017</td>\n",
       "      <td>Star Wars Ep. VIII: The Last Jedi</td>\n",
       "      <td>$317,000,000</td>\n",
       "      <td>$620,181,382</td>\n",
       "      <td>$1,316,721,747</td>\n",
       "    </tr>\n",
       "  </tbody>\n",
       "</table>\n",
       "</div>"
      ],
      "text/plain": [
       "   id  release_date                                        movie  \\\n",
       "0   1  Dec 18, 2009                                       Avatar   \n",
       "1   2  May 20, 2011  Pirates of the Caribbean: On Stranger Tides   \n",
       "2   3   Jun 7, 2019                                 Dark Phoenix   \n",
       "3   4   May 1, 2015                      Avengers: Age of Ultron   \n",
       "4   5  Dec 15, 2017            Star Wars Ep. VIII: The Last Jedi   \n",
       "\n",
       "  production_budget domestic_gross worldwide_gross  \n",
       "0      $425,000,000   $760,507,625  $2,776,345,279  \n",
       "1      $410,600,000   $241,063,875  $1,045,663,875  \n",
       "2      $350,000,000    $42,762,350    $149,762,350  \n",
       "3      $330,600,000   $459,005,868  $1,403,013,963  \n",
       "4      $317,000,000   $620,181,382  $1,316,721,747  "
      ]
     },
     "execution_count": 6,
     "metadata": {},
     "output_type": "execute_result"
    }
   ],
   "source": [
    "# import csv with domestic revenue and preview data\n",
    "revenue_df = pd.read_csv(\"../../zippedData/tn.movie_budgets.csv.gz\")\n",
    "revenue_df.head()"
   ]
  },
  {
   "cell_type": "code",
   "execution_count": 7,
   "metadata": {},
   "outputs": [
    {
     "data": {
      "text/html": [
       "<div>\n",
       "<style scoped>\n",
       "    .dataframe tbody tr th:only-of-type {\n",
       "        vertical-align: middle;\n",
       "    }\n",
       "\n",
       "    .dataframe tbody tr th {\n",
       "        vertical-align: top;\n",
       "    }\n",
       "\n",
       "    .dataframe thead th {\n",
       "        text-align: right;\n",
       "    }\n",
       "</style>\n",
       "<table border=\"1\" class=\"dataframe\">\n",
       "  <thead>\n",
       "    <tr style=\"text-align: right;\">\n",
       "      <th></th>\n",
       "      <th>id</th>\n",
       "      <th>release_date</th>\n",
       "      <th>primary_title</th>\n",
       "      <th>production_budget</th>\n",
       "      <th>domestic_gross</th>\n",
       "      <th>worldwide_gross</th>\n",
       "    </tr>\n",
       "  </thead>\n",
       "  <tbody>\n",
       "    <tr>\n",
       "      <th>0</th>\n",
       "      <td>1</td>\n",
       "      <td>Dec 18, 2009</td>\n",
       "      <td>Avatar</td>\n",
       "      <td>$425,000,000</td>\n",
       "      <td>$760,507,625</td>\n",
       "      <td>$2,776,345,279</td>\n",
       "    </tr>\n",
       "    <tr>\n",
       "      <th>1</th>\n",
       "      <td>2</td>\n",
       "      <td>May 20, 2011</td>\n",
       "      <td>Pirates of the Caribbean: On Stranger Tides</td>\n",
       "      <td>$410,600,000</td>\n",
       "      <td>$241,063,875</td>\n",
       "      <td>$1,045,663,875</td>\n",
       "    </tr>\n",
       "    <tr>\n",
       "      <th>2</th>\n",
       "      <td>3</td>\n",
       "      <td>Jun 7, 2019</td>\n",
       "      <td>Dark Phoenix</td>\n",
       "      <td>$350,000,000</td>\n",
       "      <td>$42,762,350</td>\n",
       "      <td>$149,762,350</td>\n",
       "    </tr>\n",
       "    <tr>\n",
       "      <th>3</th>\n",
       "      <td>4</td>\n",
       "      <td>May 1, 2015</td>\n",
       "      <td>Avengers: Age of Ultron</td>\n",
       "      <td>$330,600,000</td>\n",
       "      <td>$459,005,868</td>\n",
       "      <td>$1,403,013,963</td>\n",
       "    </tr>\n",
       "    <tr>\n",
       "      <th>4</th>\n",
       "      <td>5</td>\n",
       "      <td>Dec 15, 2017</td>\n",
       "      <td>Star Wars Ep. VIII: The Last Jedi</td>\n",
       "      <td>$317,000,000</td>\n",
       "      <td>$620,181,382</td>\n",
       "      <td>$1,316,721,747</td>\n",
       "    </tr>\n",
       "  </tbody>\n",
       "</table>\n",
       "</div>"
      ],
      "text/plain": [
       "   id  release_date                                primary_title  \\\n",
       "0   1  Dec 18, 2009                                       Avatar   \n",
       "1   2  May 20, 2011  Pirates of the Caribbean: On Stranger Tides   \n",
       "2   3   Jun 7, 2019                                 Dark Phoenix   \n",
       "3   4   May 1, 2015                      Avengers: Age of Ultron   \n",
       "4   5  Dec 15, 2017            Star Wars Ep. VIII: The Last Jedi   \n",
       "\n",
       "  production_budget domestic_gross worldwide_gross  \n",
       "0      $425,000,000   $760,507,625  $2,776,345,279  \n",
       "1      $410,600,000   $241,063,875  $1,045,663,875  \n",
       "2      $350,000,000    $42,762,350    $149,762,350  \n",
       "3      $330,600,000   $459,005,868  $1,403,013,963  \n",
       "4      $317,000,000   $620,181,382  $1,316,721,747  "
      ]
     },
     "execution_count": 7,
     "metadata": {},
     "output_type": "execute_result"
    }
   ],
   "source": [
    "# rename column with movie title to prepare for pandas join\n",
    "revenue_df.rename(columns={'movie': 'primary_title'}, inplace=True)\n",
    "revenue_df.head()"
   ]
  },
  {
   "cell_type": "code",
   "execution_count": 8,
   "metadata": {},
   "outputs": [
    {
     "name": "stdout",
     "output_type": "stream",
     "text": [
      "<class 'pandas.core.frame.DataFrame'>\n",
      "Int64Index: 3815 entries, 0 to 3814\n",
      "Data columns (total 11 columns):\n",
      " #   Column             Non-Null Count  Dtype  \n",
      "---  ------             --------------  -----  \n",
      " 0   movie_id           3815 non-null   object \n",
      " 1   primary_title      3815 non-null   object \n",
      " 2   original_title     3814 non-null   object \n",
      " 3   start_year         3815 non-null   int64  \n",
      " 4   runtime_minutes    3328 non-null   float64\n",
      " 5   genres             3743 non-null   object \n",
      " 6   id                 3815 non-null   int64  \n",
      " 7   release_date       3815 non-null   object \n",
      " 8   production_budget  3815 non-null   object \n",
      " 9   domestic_gross     3815 non-null   object \n",
      " 10  worldwide_gross    3815 non-null   object \n",
      "dtypes: float64(1), int64(2), object(8)\n",
      "memory usage: 357.7+ KB\n"
     ]
    }
   ],
   "source": [
    "# create new dataframe including genre, domestic revenue, and  movie title\n",
    "movies1 = pd.merge(imbd, revenue_df, on ='primary_title')\n",
    "movies1.info()"
   ]
  },
  {
   "cell_type": "code",
   "execution_count": 9,
   "metadata": {},
   "outputs": [
    {
     "data": {
      "text/html": [
       "<div>\n",
       "<style scoped>\n",
       "    .dataframe tbody tr th:only-of-type {\n",
       "        vertical-align: middle;\n",
       "    }\n",
       "\n",
       "    .dataframe tbody tr th {\n",
       "        vertical-align: top;\n",
       "    }\n",
       "\n",
       "    .dataframe thead th {\n",
       "        text-align: right;\n",
       "    }\n",
       "</style>\n",
       "<table border=\"1\" class=\"dataframe\">\n",
       "  <thead>\n",
       "    <tr style=\"text-align: right;\">\n",
       "      <th></th>\n",
       "      <th>movie_id</th>\n",
       "      <th>primary_title</th>\n",
       "      <th>original_title</th>\n",
       "      <th>start_year</th>\n",
       "      <th>runtime_minutes</th>\n",
       "      <th>genres</th>\n",
       "      <th>id</th>\n",
       "      <th>release_date</th>\n",
       "      <th>production_budget</th>\n",
       "      <th>domestic_gross</th>\n",
       "      <th>worldwide_gross</th>\n",
       "    </tr>\n",
       "  </thead>\n",
       "  <tbody>\n",
       "    <tr>\n",
       "      <th>0</th>\n",
       "      <td>tt0249516</td>\n",
       "      <td>Foodfight!</td>\n",
       "      <td>Foodfight!</td>\n",
       "      <td>2012</td>\n",
       "      <td>91.0</td>\n",
       "      <td>Action,Animation,Comedy</td>\n",
       "      <td>26</td>\n",
       "      <td>Dec 31, 2012</td>\n",
       "      <td>$45,000,000</td>\n",
       "      <td>$0</td>\n",
       "      <td>$73,706</td>\n",
       "    </tr>\n",
       "    <tr>\n",
       "      <th>1</th>\n",
       "      <td>tt0293429</td>\n",
       "      <td>Mortal Kombat</td>\n",
       "      <td>Mortal Kombat</td>\n",
       "      <td>2021</td>\n",
       "      <td>NaN</td>\n",
       "      <td>Action,Adventure,Fantasy</td>\n",
       "      <td>10</td>\n",
       "      <td>Aug 18, 1995</td>\n",
       "      <td>$20,000,000</td>\n",
       "      <td>$70,433,227</td>\n",
       "      <td>$122,133,227</td>\n",
       "    </tr>\n",
       "    <tr>\n",
       "      <th>3</th>\n",
       "      <td>tt3844362</td>\n",
       "      <td>The Overnight</td>\n",
       "      <td>The Overnight</td>\n",
       "      <td>2015</td>\n",
       "      <td>79.0</td>\n",
       "      <td>Comedy,Mystery</td>\n",
       "      <td>21</td>\n",
       "      <td>Jun 19, 2015</td>\n",
       "      <td>$200,000</td>\n",
       "      <td>$1,109,808</td>\n",
       "      <td>$1,165,996</td>\n",
       "    </tr>\n",
       "    <tr>\n",
       "      <th>4</th>\n",
       "      <td>tt0337692</td>\n",
       "      <td>On the Road</td>\n",
       "      <td>On the Road</td>\n",
       "      <td>2012</td>\n",
       "      <td>124.0</td>\n",
       "      <td>Adventure,Drama,Romance</td>\n",
       "      <td>17</td>\n",
       "      <td>Mar 22, 2013</td>\n",
       "      <td>$25,000,000</td>\n",
       "      <td>$720,828</td>\n",
       "      <td>$9,313,302</td>\n",
       "    </tr>\n",
       "    <tr>\n",
       "      <th>5</th>\n",
       "      <td>tt2404548</td>\n",
       "      <td>On the Road</td>\n",
       "      <td>On the Road</td>\n",
       "      <td>2011</td>\n",
       "      <td>90.0</td>\n",
       "      <td>Drama</td>\n",
       "      <td>17</td>\n",
       "      <td>Mar 22, 2013</td>\n",
       "      <td>$25,000,000</td>\n",
       "      <td>$720,828</td>\n",
       "      <td>$9,313,302</td>\n",
       "    </tr>\n",
       "  </tbody>\n",
       "</table>\n",
       "</div>"
      ],
      "text/plain": [
       "    movie_id  primary_title original_title  start_year  runtime_minutes  \\\n",
       "0  tt0249516     Foodfight!     Foodfight!        2012             91.0   \n",
       "1  tt0293429  Mortal Kombat  Mortal Kombat        2021              NaN   \n",
       "3  tt3844362  The Overnight  The Overnight        2015             79.0   \n",
       "4  tt0337692    On the Road    On the Road        2012            124.0   \n",
       "5  tt2404548    On the Road    On the Road        2011             90.0   \n",
       "\n",
       "                     genres  id  release_date production_budget  \\\n",
       "0   Action,Animation,Comedy  26  Dec 31, 2012       $45,000,000   \n",
       "1  Action,Adventure,Fantasy  10  Aug 18, 1995       $20,000,000   \n",
       "3            Comedy,Mystery  21  Jun 19, 2015          $200,000   \n",
       "4   Adventure,Drama,Romance  17  Mar 22, 2013       $25,000,000   \n",
       "5                     Drama  17  Mar 22, 2013       $25,000,000   \n",
       "\n",
       "  domestic_gross worldwide_gross  \n",
       "0             $0         $73,706  \n",
       "1    $70,433,227    $122,133,227  \n",
       "3     $1,109,808      $1,165,996  \n",
       "4       $720,828      $9,313,302  \n",
       "5       $720,828      $9,313,302  "
      ]
     },
     "execution_count": 9,
     "metadata": {},
     "output_type": "execute_result"
    }
   ],
   "source": [
    "# drop rows with genre value as null\n",
    "movies = movies1.dropna(subset= ['genres'])\n",
    "movies.head()"
   ]
  },
  {
   "cell_type": "code",
   "execution_count": 10,
   "metadata": {},
   "outputs": [
    {
     "name": "stderr",
     "output_type": "stream",
     "text": [
      "<ipython-input-10-eb6c512f8464>:2: SettingWithCopyWarning: \n",
      "A value is trying to be set on a copy of a slice from a DataFrame.\n",
      "Try using .loc[row_indexer,col_indexer] = value instead\n",
      "\n",
      "See the caveats in the documentation: https://pandas.pydata.org/pandas-docs/stable/user_guide/indexing.html#returning-a-view-versus-a-copy\n",
      "  movies['main_genre'] = movies[\"genres\"].str.split(',')\n"
     ]
    }
   ],
   "source": [
    "# create column which contains just one genre instead of a list of genres\n",
    "movies['main_genre'] = movies[\"genres\"].str.split(',')\n",
    "movies_df = movies.explode('main_genre')"
   ]
  },
  {
   "cell_type": "code",
   "execution_count": 11,
   "metadata": {},
   "outputs": [],
   "source": [
    "# dropping duplicates \n",
    "movies_df = movies_df.drop_duplicates(subset= ['movie_id'])"
   ]
  },
  {
   "cell_type": "code",
   "execution_count": 12,
   "metadata": {},
   "outputs": [
    {
     "name": "stdout",
     "output_type": "stream",
     "text": [
      "<class 'pandas.core.frame.DataFrame'>\n",
      "Int64Index: 3539 entries, 0 to 3814\n",
      "Data columns (total 12 columns):\n",
      " #   Column             Non-Null Count  Dtype  \n",
      "---  ------             --------------  -----  \n",
      " 0   movie_id           3539 non-null   object \n",
      " 1   primary_title      3539 non-null   object \n",
      " 2   original_title     3539 non-null   object \n",
      " 3   start_year         3539 non-null   int64  \n",
      " 4   runtime_minutes    3133 non-null   float64\n",
      " 5   genres             3539 non-null   object \n",
      " 6   id                 3539 non-null   int64  \n",
      " 7   release_date       3539 non-null   object \n",
      " 8   production_budget  3539 non-null   object \n",
      " 9   domestic_gross     3539 non-null   object \n",
      " 10  worldwide_gross    3539 non-null   object \n",
      " 11  main_genre         3539 non-null   object \n",
      "dtypes: float64(1), int64(2), object(9)\n",
      "memory usage: 359.4+ KB\n"
     ]
    }
   ],
   "source": [
    "movies_df.info()"
   ]
  },
  {
   "cell_type": "code",
   "execution_count": 13,
   "metadata": {},
   "outputs": [
    {
     "data": {
      "text/html": [
       "<div>\n",
       "<style scoped>\n",
       "    .dataframe tbody tr th:only-of-type {\n",
       "        vertical-align: middle;\n",
       "    }\n",
       "\n",
       "    .dataframe tbody tr th {\n",
       "        vertical-align: top;\n",
       "    }\n",
       "\n",
       "    .dataframe thead th {\n",
       "        text-align: right;\n",
       "    }\n",
       "</style>\n",
       "<table border=\"1\" class=\"dataframe\">\n",
       "  <thead>\n",
       "    <tr style=\"text-align: right;\">\n",
       "      <th></th>\n",
       "      <th>movie_id</th>\n",
       "      <th>primary_title</th>\n",
       "      <th>original_title</th>\n",
       "      <th>start_year</th>\n",
       "      <th>runtime_minutes</th>\n",
       "      <th>genres</th>\n",
       "      <th>id</th>\n",
       "      <th>release_date</th>\n",
       "      <th>production_budget</th>\n",
       "      <th>domestic_gross</th>\n",
       "      <th>worldwide_gross</th>\n",
       "      <th>main_genre</th>\n",
       "    </tr>\n",
       "  </thead>\n",
       "  <tbody>\n",
       "    <tr>\n",
       "      <th>0</th>\n",
       "      <td>tt0249516</td>\n",
       "      <td>Foodfight!</td>\n",
       "      <td>Foodfight!</td>\n",
       "      <td>2012</td>\n",
       "      <td>91.0</td>\n",
       "      <td>Action,Animation,Comedy</td>\n",
       "      <td>26</td>\n",
       "      <td>Dec 31, 2012</td>\n",
       "      <td>$45,000,000</td>\n",
       "      <td>$0</td>\n",
       "      <td>$73,706</td>\n",
       "      <td>Action</td>\n",
       "    </tr>\n",
       "    <tr>\n",
       "      <th>1</th>\n",
       "      <td>tt0293429</td>\n",
       "      <td>Mortal Kombat</td>\n",
       "      <td>Mortal Kombat</td>\n",
       "      <td>2021</td>\n",
       "      <td>NaN</td>\n",
       "      <td>Action,Adventure,Fantasy</td>\n",
       "      <td>10</td>\n",
       "      <td>Aug 18, 1995</td>\n",
       "      <td>$20,000,000</td>\n",
       "      <td>$70,433,227</td>\n",
       "      <td>$122,133,227</td>\n",
       "      <td>Action</td>\n",
       "    </tr>\n",
       "    <tr>\n",
       "      <th>3</th>\n",
       "      <td>tt3844362</td>\n",
       "      <td>The Overnight</td>\n",
       "      <td>The Overnight</td>\n",
       "      <td>2015</td>\n",
       "      <td>79.0</td>\n",
       "      <td>Comedy,Mystery</td>\n",
       "      <td>21</td>\n",
       "      <td>Jun 19, 2015</td>\n",
       "      <td>$200,000</td>\n",
       "      <td>$1,109,808</td>\n",
       "      <td>$1,165,996</td>\n",
       "      <td>Comedy</td>\n",
       "    </tr>\n",
       "    <tr>\n",
       "      <th>4</th>\n",
       "      <td>tt0337692</td>\n",
       "      <td>On the Road</td>\n",
       "      <td>On the Road</td>\n",
       "      <td>2012</td>\n",
       "      <td>124.0</td>\n",
       "      <td>Adventure,Drama,Romance</td>\n",
       "      <td>17</td>\n",
       "      <td>Mar 22, 2013</td>\n",
       "      <td>$25,000,000</td>\n",
       "      <td>$720,828</td>\n",
       "      <td>$9,313,302</td>\n",
       "      <td>Adventure</td>\n",
       "    </tr>\n",
       "    <tr>\n",
       "      <th>5</th>\n",
       "      <td>tt2404548</td>\n",
       "      <td>On the Road</td>\n",
       "      <td>On the Road</td>\n",
       "      <td>2011</td>\n",
       "      <td>90.0</td>\n",
       "      <td>Drama</td>\n",
       "      <td>17</td>\n",
       "      <td>Mar 22, 2013</td>\n",
       "      <td>$25,000,000</td>\n",
       "      <td>$720,828</td>\n",
       "      <td>$9,313,302</td>\n",
       "      <td>Drama</td>\n",
       "    </tr>\n",
       "    <tr>\n",
       "      <th>...</th>\n",
       "      <td>...</td>\n",
       "      <td>...</td>\n",
       "      <td>...</td>\n",
       "      <td>...</td>\n",
       "      <td>...</td>\n",
       "      <td>...</td>\n",
       "      <td>...</td>\n",
       "      <td>...</td>\n",
       "      <td>...</td>\n",
       "      <td>...</td>\n",
       "      <td>...</td>\n",
       "      <td>...</td>\n",
       "    </tr>\n",
       "    <tr>\n",
       "      <th>3810</th>\n",
       "      <td>tt9678962</td>\n",
       "      <td>Fuel</td>\n",
       "      <td>Fuel</td>\n",
       "      <td>2018</td>\n",
       "      <td>NaN</td>\n",
       "      <td>Documentary,Sport</td>\n",
       "      <td>35</td>\n",
       "      <td>Nov 14, 2008</td>\n",
       "      <td>$2,500,000</td>\n",
       "      <td>$174,255</td>\n",
       "      <td>$174,255</td>\n",
       "      <td>Documentary</td>\n",
       "    </tr>\n",
       "    <tr>\n",
       "      <th>3811</th>\n",
       "      <td>tt9729206</td>\n",
       "      <td>Diner</td>\n",
       "      <td>Diner</td>\n",
       "      <td>2019</td>\n",
       "      <td>NaN</td>\n",
       "      <td>Crime</td>\n",
       "      <td>11</td>\n",
       "      <td>Apr 2, 1982</td>\n",
       "      <td>$5,000,000</td>\n",
       "      <td>$12,592,907</td>\n",
       "      <td>$12,592,907</td>\n",
       "      <td>Crime</td>\n",
       "    </tr>\n",
       "    <tr>\n",
       "      <th>3812</th>\n",
       "      <td>tt9805168</td>\n",
       "      <td>Traitor</td>\n",
       "      <td>Traitor</td>\n",
       "      <td>2015</td>\n",
       "      <td>110.0</td>\n",
       "      <td>Action,Drama,Romance</td>\n",
       "      <td>25</td>\n",
       "      <td>Aug 27, 2008</td>\n",
       "      <td>$22,000,000</td>\n",
       "      <td>$23,530,831</td>\n",
       "      <td>$27,882,226</td>\n",
       "      <td>Action</td>\n",
       "    </tr>\n",
       "    <tr>\n",
       "      <th>3813</th>\n",
       "      <td>tt9844102</td>\n",
       "      <td>Ray</td>\n",
       "      <td>Ray</td>\n",
       "      <td>2018</td>\n",
       "      <td>111.0</td>\n",
       "      <td>Crime</td>\n",
       "      <td>8</td>\n",
       "      <td>Oct 29, 2004</td>\n",
       "      <td>$40,000,000</td>\n",
       "      <td>$75,305,995</td>\n",
       "      <td>$124,823,094</td>\n",
       "      <td>Crime</td>\n",
       "    </tr>\n",
       "    <tr>\n",
       "      <th>3814</th>\n",
       "      <td>tt9893078</td>\n",
       "      <td>Sublime</td>\n",
       "      <td>Sublime</td>\n",
       "      <td>2019</td>\n",
       "      <td>NaN</td>\n",
       "      <td>Documentary</td>\n",
       "      <td>30</td>\n",
       "      <td>Mar 13, 2007</td>\n",
       "      <td>$1,800,000</td>\n",
       "      <td>$0</td>\n",
       "      <td>$0</td>\n",
       "      <td>Documentary</td>\n",
       "    </tr>\n",
       "  </tbody>\n",
       "</table>\n",
       "<p>3539 rows × 12 columns</p>\n",
       "</div>"
      ],
      "text/plain": [
       "       movie_id  primary_title original_title  start_year  runtime_minutes  \\\n",
       "0     tt0249516     Foodfight!     Foodfight!        2012             91.0   \n",
       "1     tt0293429  Mortal Kombat  Mortal Kombat        2021              NaN   \n",
       "3     tt3844362  The Overnight  The Overnight        2015             79.0   \n",
       "4     tt0337692    On the Road    On the Road        2012            124.0   \n",
       "5     tt2404548    On the Road    On the Road        2011             90.0   \n",
       "...         ...            ...            ...         ...              ...   \n",
       "3810  tt9678962           Fuel           Fuel        2018              NaN   \n",
       "3811  tt9729206          Diner          Diner        2019              NaN   \n",
       "3812  tt9805168        Traitor        Traitor        2015            110.0   \n",
       "3813  tt9844102            Ray            Ray        2018            111.0   \n",
       "3814  tt9893078        Sublime        Sublime        2019              NaN   \n",
       "\n",
       "                        genres  id  release_date production_budget  \\\n",
       "0      Action,Animation,Comedy  26  Dec 31, 2012       $45,000,000   \n",
       "1     Action,Adventure,Fantasy  10  Aug 18, 1995       $20,000,000   \n",
       "3               Comedy,Mystery  21  Jun 19, 2015          $200,000   \n",
       "4      Adventure,Drama,Romance  17  Mar 22, 2013       $25,000,000   \n",
       "5                        Drama  17  Mar 22, 2013       $25,000,000   \n",
       "...                        ...  ..           ...               ...   \n",
       "3810         Documentary,Sport  35  Nov 14, 2008        $2,500,000   \n",
       "3811                     Crime  11   Apr 2, 1982        $5,000,000   \n",
       "3812      Action,Drama,Romance  25  Aug 27, 2008       $22,000,000   \n",
       "3813                     Crime   8  Oct 29, 2004       $40,000,000   \n",
       "3814               Documentary  30  Mar 13, 2007        $1,800,000   \n",
       "\n",
       "     domestic_gross worldwide_gross   main_genre  \n",
       "0                $0         $73,706       Action  \n",
       "1       $70,433,227    $122,133,227       Action  \n",
       "3        $1,109,808      $1,165,996       Comedy  \n",
       "4          $720,828      $9,313,302    Adventure  \n",
       "5          $720,828      $9,313,302        Drama  \n",
       "...             ...             ...          ...  \n",
       "3810       $174,255        $174,255  Documentary  \n",
       "3811    $12,592,907     $12,592,907        Crime  \n",
       "3812    $23,530,831     $27,882,226       Action  \n",
       "3813    $75,305,995    $124,823,094        Crime  \n",
       "3814             $0              $0  Documentary  \n",
       "\n",
       "[3539 rows x 12 columns]"
      ]
     },
     "execution_count": 13,
     "metadata": {},
     "output_type": "execute_result"
    }
   ],
   "source": [
    "movies_df"
   ]
  },
  {
   "cell_type": "code",
   "execution_count": 14,
   "metadata": {},
   "outputs": [
    {
     "data": {
      "text/plain": [
       "0              0\n",
       "1       70433227\n",
       "3        1109808\n",
       "4         720828\n",
       "5         720828\n",
       "          ...   \n",
       "3810      174255\n",
       "3811    12592907\n",
       "3812    23530831\n",
       "3813    75305995\n",
       "3814           0\n",
       "Name: domestic_gross, Length: 3539, dtype: int32"
      ]
     },
     "execution_count": 14,
     "metadata": {},
     "output_type": "execute_result"
    }
   ],
   "source": [
    "# make domestic gross into integer without dollar sign\n",
    "def clean_dollar(df, column):\n",
    "    df[column] = df[column].str.strip('$')\n",
    "    df[column] = df[column].str.replace(',','')\n",
    "    df[column] = df[column].astype(int)\n",
    "    return df[column]\n",
    "\n",
    "clean_dollar(movies_df,'domestic_gross')"
   ]
  },
  {
   "cell_type": "code",
   "execution_count": 23,
   "metadata": {},
   "outputs": [
    {
     "data": {
      "text/html": [
       "<div>\n",
       "<style scoped>\n",
       "    .dataframe tbody tr th:only-of-type {\n",
       "        vertical-align: middle;\n",
       "    }\n",
       "\n",
       "    .dataframe tbody tr th {\n",
       "        vertical-align: top;\n",
       "    }\n",
       "\n",
       "    .dataframe thead th {\n",
       "        text-align: right;\n",
       "    }\n",
       "</style>\n",
       "<table border=\"1\" class=\"dataframe\">\n",
       "  <thead>\n",
       "    <tr style=\"text-align: right;\">\n",
       "      <th></th>\n",
       "      <th>main_genre</th>\n",
       "      <th>movie_id</th>\n",
       "    </tr>\n",
       "  </thead>\n",
       "  <tbody>\n",
       "    <tr>\n",
       "      <th>7</th>\n",
       "      <td>Drama</td>\n",
       "      <td>898</td>\n",
       "    </tr>\n",
       "    <tr>\n",
       "      <th>0</th>\n",
       "      <td>Action</td>\n",
       "      <td>667</td>\n",
       "    </tr>\n",
       "    <tr>\n",
       "      <th>4</th>\n",
       "      <td>Comedy</td>\n",
       "      <td>558</td>\n",
       "    </tr>\n",
       "    <tr>\n",
       "      <th>6</th>\n",
       "      <td>Documentary</td>\n",
       "      <td>347</td>\n",
       "    </tr>\n",
       "    <tr>\n",
       "      <th>1</th>\n",
       "      <td>Adventure</td>\n",
       "      <td>242</td>\n",
       "    </tr>\n",
       "    <tr>\n",
       "      <th>10</th>\n",
       "      <td>Horror</td>\n",
       "      <td>216</td>\n",
       "    </tr>\n",
       "    <tr>\n",
       "      <th>3</th>\n",
       "      <td>Biography</td>\n",
       "      <td>203</td>\n",
       "    </tr>\n",
       "    <tr>\n",
       "      <th>5</th>\n",
       "      <td>Crime</td>\n",
       "      <td>163</td>\n",
       "    </tr>\n",
       "    <tr>\n",
       "      <th>17</th>\n",
       "      <td>Thriller</td>\n",
       "      <td>79</td>\n",
       "    </tr>\n",
       "    <tr>\n",
       "      <th>2</th>\n",
       "      <td>Animation</td>\n",
       "      <td>34</td>\n",
       "    </tr>\n",
       "    <tr>\n",
       "      <th>15</th>\n",
       "      <td>Sci-Fi</td>\n",
       "      <td>28</td>\n",
       "    </tr>\n",
       "    <tr>\n",
       "      <th>8</th>\n",
       "      <td>Family</td>\n",
       "      <td>20</td>\n",
       "    </tr>\n",
       "    <tr>\n",
       "      <th>13</th>\n",
       "      <td>Mystery</td>\n",
       "      <td>19</td>\n",
       "    </tr>\n",
       "    <tr>\n",
       "      <th>9</th>\n",
       "      <td>Fantasy</td>\n",
       "      <td>18</td>\n",
       "    </tr>\n",
       "    <tr>\n",
       "      <th>14</th>\n",
       "      <td>Romance</td>\n",
       "      <td>18</td>\n",
       "    </tr>\n",
       "    <tr>\n",
       "      <th>11</th>\n",
       "      <td>Music</td>\n",
       "      <td>8</td>\n",
       "    </tr>\n",
       "    <tr>\n",
       "      <th>19</th>\n",
       "      <td>Western</td>\n",
       "      <td>8</td>\n",
       "    </tr>\n",
       "    <tr>\n",
       "      <th>12</th>\n",
       "      <td>Musical</td>\n",
       "      <td>6</td>\n",
       "    </tr>\n",
       "    <tr>\n",
       "      <th>18</th>\n",
       "      <td>War</td>\n",
       "      <td>4</td>\n",
       "    </tr>\n",
       "    <tr>\n",
       "      <th>16</th>\n",
       "      <td>Sport</td>\n",
       "      <td>3</td>\n",
       "    </tr>\n",
       "  </tbody>\n",
       "</table>\n",
       "</div>"
      ],
      "text/plain": [
       "     main_genre  movie_id\n",
       "7         Drama       898\n",
       "0        Action       667\n",
       "4        Comedy       558\n",
       "6   Documentary       347\n",
       "1     Adventure       242\n",
       "10       Horror       216\n",
       "3     Biography       203\n",
       "5         Crime       163\n",
       "17     Thriller        79\n",
       "2     Animation        34\n",
       "15       Sci-Fi        28\n",
       "8        Family        20\n",
       "13      Mystery        19\n",
       "9       Fantasy        18\n",
       "14      Romance        18\n",
       "11        Music         8\n",
       "19      Western         8\n",
       "12      Musical         6\n",
       "18          War         4\n",
       "16        Sport         3"
      ]
     },
     "execution_count": 23,
     "metadata": {},
     "output_type": "execute_result"
    }
   ],
   "source": [
    "# counts of each genre\n",
    "movies_df_counts = movies_df.groupby(['main_genre'])['movie_id'].count().reset_index()\n",
    "# sort data frame to ensure that the visualization is in order\n",
    "movies_df_counts = movies_df_counts.sort_values(by='movie_id', ascending=False)\n",
    "movies_df_counts"
   ]
  },
  {
   "cell_type": "code",
   "execution_count": 24,
   "metadata": {},
   "outputs": [
    {
     "data": {
      "image/png": "[encoded data removed]",
      "text/plain": [
       "<Figure size 1440x864 with 1 Axes>"
      ]
     },
     "metadata": {
      "needs_background": "light"
     },
     "output_type": "display_data"
    }
   ],
   "source": [
    "# plot distribution\n",
    "plt.figure(figsize=(20,12))\n",
    "\n",
    "plt.bar(movies_df_counts['main_genre'], movies_df_counts[\"movie_id\"], color='#86BC24')\n",
    "\n",
    "plt.xlabel('Genres', fontsize=22, fontweight='bold')\n",
    "plt.ylabel('Number of Movies', fontsize = 22, fontweight='bold')\n",
    "plt.xticks(rotation='45', fontsize = 16)\n",
    "\n",
    "\n",
    "plt.title('Number of Movies per Genre', fontsize = 28, fontweight='bold')\n",
    "\n",
    "\n",
    "plt.show()\n"
   ]
  },
  {
   "cell_type": "markdown",
   "metadata": {},
   "source": [
    "# Visualization Analysis: Distribution of Data\n",
    "Our bar plot shows how many movies of each genre are represented in the dataset. We can observe some saturation in the drama and action categories. So much of the data lays in these categories because of how many movies of this genre have been made in the past decade. This notion is going to contribute to our hypothesis test"
   ]
  },
  {
   "cell_type": "code",
   "execution_count": 109,
   "metadata": {},
   "outputs": [
    {
     "data": {
      "text/html": [
       "<div>\n",
       "<style scoped>\n",
       "    .dataframe tbody tr th:only-of-type {\n",
       "        vertical-align: middle;\n",
       "    }\n",
       "\n",
       "    .dataframe tbody tr th {\n",
       "        vertical-align: top;\n",
       "    }\n",
       "\n",
       "    .dataframe thead th {\n",
       "        text-align: right;\n",
       "    }\n",
       "</style>\n",
       "<table border=\"1\" class=\"dataframe\">\n",
       "  <thead>\n",
       "    <tr style=\"text-align: right;\">\n",
       "      <th></th>\n",
       "      <th>main_genre</th>\n",
       "      <th>domestic_gross</th>\n",
       "    </tr>\n",
       "  </thead>\n",
       "  <tbody>\n",
       "    <tr>\n",
       "      <th>8</th>\n",
       "      <td>Family</td>\n",
       "      <td>1.081283e+08</td>\n",
       "    </tr>\n",
       "    <tr>\n",
       "      <th>12</th>\n",
       "      <td>Musical</td>\n",
       "      <td>8.673849e+07</td>\n",
       "    </tr>\n",
       "    <tr>\n",
       "      <th>9</th>\n",
       "      <td>Fantasy</td>\n",
       "      <td>8.261379e+07</td>\n",
       "    </tr>\n",
       "    <tr>\n",
       "      <th>1</th>\n",
       "      <td>Adventure</td>\n",
       "      <td>8.170441e+07</td>\n",
       "    </tr>\n",
       "    <tr>\n",
       "      <th>2</th>\n",
       "      <td>Animation</td>\n",
       "      <td>7.487855e+07</td>\n",
       "    </tr>\n",
       "    <tr>\n",
       "      <th>0</th>\n",
       "      <td>Action</td>\n",
       "      <td>6.787744e+07</td>\n",
       "    </tr>\n",
       "    <tr>\n",
       "      <th>18</th>\n",
       "      <td>War</td>\n",
       "      <td>5.187002e+07</td>\n",
       "    </tr>\n",
       "    <tr>\n",
       "      <th>15</th>\n",
       "      <td>Sci-Fi</td>\n",
       "      <td>4.083381e+07</td>\n",
       "    </tr>\n",
       "    <tr>\n",
       "      <th>13</th>\n",
       "      <td>Mystery</td>\n",
       "      <td>3.760851e+07</td>\n",
       "    </tr>\n",
       "    <tr>\n",
       "      <th>11</th>\n",
       "      <td>Music</td>\n",
       "      <td>3.635295e+07</td>\n",
       "    </tr>\n",
       "    <tr>\n",
       "      <th>3</th>\n",
       "      <td>Biography</td>\n",
       "      <td>3.415441e+07</td>\n",
       "    </tr>\n",
       "    <tr>\n",
       "      <th>10</th>\n",
       "      <td>Horror</td>\n",
       "      <td>3.241875e+07</td>\n",
       "    </tr>\n",
       "    <tr>\n",
       "      <th>6</th>\n",
       "      <td>Documentary</td>\n",
       "      <td>3.231687e+07</td>\n",
       "    </tr>\n",
       "    <tr>\n",
       "      <th>4</th>\n",
       "      <td>Comedy</td>\n",
       "      <td>3.077183e+07</td>\n",
       "    </tr>\n",
       "    <tr>\n",
       "      <th>17</th>\n",
       "      <td>Thriller</td>\n",
       "      <td>2.519151e+07</td>\n",
       "    </tr>\n",
       "    <tr>\n",
       "      <th>7</th>\n",
       "      <td>Drama</td>\n",
       "      <td>2.443655e+07</td>\n",
       "    </tr>\n",
       "    <tr>\n",
       "      <th>5</th>\n",
       "      <td>Crime</td>\n",
       "      <td>2.408055e+07</td>\n",
       "    </tr>\n",
       "    <tr>\n",
       "      <th>16</th>\n",
       "      <td>Sport</td>\n",
       "      <td>1.455115e+07</td>\n",
       "    </tr>\n",
       "    <tr>\n",
       "      <th>14</th>\n",
       "      <td>Romance</td>\n",
       "      <td>1.294042e+07</td>\n",
       "    </tr>\n",
       "    <tr>\n",
       "      <th>19</th>\n",
       "      <td>Western</td>\n",
       "      <td>9.873256e+06</td>\n",
       "    </tr>\n",
       "  </tbody>\n",
       "</table>\n",
       "</div>"
      ],
      "text/plain": [
       "     main_genre  domestic_gross\n",
       "8        Family    1.081283e+08\n",
       "12      Musical    8.673849e+07\n",
       "9       Fantasy    8.261379e+07\n",
       "1     Adventure    8.170441e+07\n",
       "2     Animation    7.487855e+07\n",
       "0        Action    6.787744e+07\n",
       "18          War    5.187002e+07\n",
       "15       Sci-Fi    4.083381e+07\n",
       "13      Mystery    3.760851e+07\n",
       "11        Music    3.635295e+07\n",
       "3     Biography    3.415441e+07\n",
       "10       Horror    3.241875e+07\n",
       "6   Documentary    3.231687e+07\n",
       "4        Comedy    3.077183e+07\n",
       "17     Thriller    2.519151e+07\n",
       "7         Drama    2.443655e+07\n",
       "5         Crime    2.408055e+07\n",
       "16        Sport    1.455115e+07\n",
       "14      Romance    1.294042e+07\n",
       "19      Western    9.873256e+06"
      ]
     },
     "execution_count": 109,
     "metadata": {},
     "output_type": "execute_result"
    }
   ],
   "source": [
    "# get mean revenue per each genre\n",
    "movies_df_test = movies_df.groupby(['main_genre'])['domestic_gross'].mean().reset_index()\n",
    "# sort data frame to ensure that the visualization is in order\n",
    "movies_df_test = movies_df_test.sort_values(by='domestic_gross', ascending=False)\n",
    "movies_df_test"
   ]
  },
  {
   "cell_type": "code",
   "execution_count": 110,
   "metadata": {},
   "outputs": [
    {
     "data": {
      "image/png": "[encoded data removed]",
      "text/plain": [
       "<Figure size 1440x864 with 1 Axes>"
      ]
     },
     "metadata": {
      "needs_background": "light"
     },
     "output_type": "display_data"
    }
   ],
   "source": [
    "# plot genre in relation to revenue - this visualization excludes outliers\n",
    "\n",
    "plt.figure(figsize=(20,12))\n",
    "\n",
    "plt.bar(movies_df_test['main_genre'], movies_df_test[\"domestic_gross\"], width=0.9, bottom=0.2, color='#86BC24')\n",
    "\n",
    "plt.xlabel('Genres', fontsize=22, fontweight='bold')\n",
    "plt.ylabel('Domestic Revenue Hundreds of Million', fontsize = 22, fontweight='bold')\n",
    "plt.xticks(rotation='45', fontsize = 16)\n",
    "\n",
    "\n",
    "plt.title('Mean Revenue Movie by Genre', fontsize = 28, fontweight='bold')\n",
    "\n",
    "\n",
    "plt.show()\n"
   ]
  },
  {
   "cell_type": "markdown",
   "metadata": {},
   "source": [
    "# Visualization Analysis: Mean of Each Genre\n",
    "According to our bar plot, the genres with the greatest performing movies in terms of average gross domestic revenue are of the family, musica, fantasy, and adventure genres. It is to be noted that often times action, family, and adventure movies are typically marketed towards and consumed by a wider group of people due to age appropriate ratings as opposed to horror, for example, which is often times rated PG-13 or R and cannot be seen by a large group of people. This notion will guide our hypothesis test that is later to come. Let's see what the top family movies are called!"
   ]
  },
  {
   "cell_type": "code",
   "execution_count": 111,
   "metadata": {},
   "outputs": [
    {
     "data": {
      "text/html": [
       "<div>\n",
       "<style scoped>\n",
       "    .dataframe tbody tr th:only-of-type {\n",
       "        vertical-align: middle;\n",
       "    }\n",
       "\n",
       "    .dataframe tbody tr th {\n",
       "        vertical-align: top;\n",
       "    }\n",
       "\n",
       "    .dataframe thead th {\n",
       "        text-align: right;\n",
       "    }\n",
       "</style>\n",
       "<table border=\"1\" class=\"dataframe\">\n",
       "  <thead>\n",
       "    <tr style=\"text-align: right;\">\n",
       "      <th></th>\n",
       "      <th>movie_id</th>\n",
       "      <th>primary_title</th>\n",
       "      <th>original_title</th>\n",
       "      <th>start_year</th>\n",
       "      <th>runtime_minutes</th>\n",
       "      <th>genres</th>\n",
       "      <th>id</th>\n",
       "      <th>release_date</th>\n",
       "      <th>production_budget</th>\n",
       "      <th>domestic_gross</th>\n",
       "      <th>worldwide_gross</th>\n",
       "      <th>main_genre</th>\n",
       "    </tr>\n",
       "  </thead>\n",
       "  <tbody>\n",
       "    <tr>\n",
       "      <th>2776</th>\n",
       "      <td>tt8852130</td>\n",
       "      <td>Titanic</td>\n",
       "      <td>Titanic</td>\n",
       "      <td>2018</td>\n",
       "      <td>115.0</td>\n",
       "      <td>Family</td>\n",
       "      <td>43</td>\n",
       "      <td>Dec 19, 1997</td>\n",
       "      <td>$200,000,000</td>\n",
       "      <td>659363944</td>\n",
       "      <td>$2,208,208,395</td>\n",
       "      <td>Family</td>\n",
       "    </tr>\n",
       "    <tr>\n",
       "      <th>2620</th>\n",
       "      <td>tt2771200</td>\n",
       "      <td>Beauty and the Beast</td>\n",
       "      <td>Beauty and the Beast</td>\n",
       "      <td>2017</td>\n",
       "      <td>129.0</td>\n",
       "      <td>Family,Fantasy,Musical</td>\n",
       "      <td>35</td>\n",
       "      <td>Mar 17, 2017</td>\n",
       "      <td>$160,000,000</td>\n",
       "      <td>504014165</td>\n",
       "      <td>$1,259,199,706</td>\n",
       "      <td>Family</td>\n",
       "    </tr>\n",
       "    <tr>\n",
       "      <th>2622</th>\n",
       "      <td>tt9173998</td>\n",
       "      <td>Beauty and the Beast</td>\n",
       "      <td>Beauty and the Beast</td>\n",
       "      <td>2018</td>\n",
       "      <td>60.0</td>\n",
       "      <td>Family,Fantasy,Musical</td>\n",
       "      <td>35</td>\n",
       "      <td>Mar 17, 2017</td>\n",
       "      <td>$160,000,000</td>\n",
       "      <td>504014165</td>\n",
       "      <td>$1,259,199,706</td>\n",
       "      <td>Family</td>\n",
       "    </tr>\n",
       "    <tr>\n",
       "      <th>1447</th>\n",
       "      <td>tt2071483</td>\n",
       "      <td>Inside Out</td>\n",
       "      <td>Inside Out</td>\n",
       "      <td>2011</td>\n",
       "      <td>59.0</td>\n",
       "      <td>Family</td>\n",
       "      <td>98</td>\n",
       "      <td>Jun 19, 2015</td>\n",
       "      <td>$175,000,000</td>\n",
       "      <td>356461711</td>\n",
       "      <td>$854,235,992</td>\n",
       "      <td>Family</td>\n",
       "    </tr>\n",
       "    <tr>\n",
       "      <th>2555</th>\n",
       "      <td>tt9618596</td>\n",
       "      <td>The Book of Life</td>\n",
       "      <td>The Book of Life</td>\n",
       "      <td>2010</td>\n",
       "      <td>NaN</td>\n",
       "      <td>Family</td>\n",
       "      <td>35</td>\n",
       "      <td>Oct 17, 2014</td>\n",
       "      <td>$50,000,000</td>\n",
       "      <td>50151543</td>\n",
       "      <td>$97,651,543</td>\n",
       "      <td>Family</td>\n",
       "    </tr>\n",
       "    <tr>\n",
       "      <th>2460</th>\n",
       "      <td>tt9313558</td>\n",
       "      <td>Coming Home</td>\n",
       "      <td>Coming Home</td>\n",
       "      <td>2018</td>\n",
       "      <td>50.0</td>\n",
       "      <td>Family</td>\n",
       "      <td>72</td>\n",
       "      <td>Jan 1, 1978</td>\n",
       "      <td>$3,000,000</td>\n",
       "      <td>32653000</td>\n",
       "      <td>$32,653,000</td>\n",
       "      <td>Family</td>\n",
       "    </tr>\n",
       "  </tbody>\n",
       "</table>\n",
       "</div>"
      ],
      "text/plain": [
       "       movie_id         primary_title        original_title  start_year  \\\n",
       "2776  tt8852130               Titanic               Titanic        2018   \n",
       "2620  tt2771200  Beauty and the Beast  Beauty and the Beast        2017   \n",
       "2622  tt9173998  Beauty and the Beast  Beauty and the Beast        2018   \n",
       "1447  tt2071483            Inside Out            Inside Out        2011   \n",
       "2555  tt9618596      The Book of Life      The Book of Life        2010   \n",
       "2460  tt9313558           Coming Home           Coming Home        2018   \n",
       "\n",
       "      runtime_minutes                  genres  id  release_date  \\\n",
       "2776            115.0                  Family  43  Dec 19, 1997   \n",
       "2620            129.0  Family,Fantasy,Musical  35  Mar 17, 2017   \n",
       "2622             60.0  Family,Fantasy,Musical  35  Mar 17, 2017   \n",
       "1447             59.0                  Family  98  Jun 19, 2015   \n",
       "2555              NaN                  Family  35  Oct 17, 2014   \n",
       "2460             50.0                  Family  72   Jan 1, 1978   \n",
       "\n",
       "     production_budget  domestic_gross worldwide_gross main_genre  \n",
       "2776      $200,000,000       659363944  $2,208,208,395     Family  \n",
       "2620      $160,000,000       504014165  $1,259,199,706     Family  \n",
       "2622      $160,000,000       504014165  $1,259,199,706     Family  \n",
       "1447      $175,000,000       356461711    $854,235,992     Family  \n",
       "2555       $50,000,000        50151543     $97,651,543     Family  \n",
       "2460        $3,000,000        32653000     $32,653,000     Family  "
      ]
     },
     "execution_count": 111,
     "metadata": {},
     "output_type": "execute_result"
    }
   ],
   "source": [
    "top_family = movies_df[(movies_df['main_genre'] == 'Family')]\n",
    "top_family.sort_values(by='domestic_gross', ascending=False).head(6)"
   ]
  },
  {
   "cell_type": "markdown",
   "metadata": {},
   "source": [
    "It appears we have a duplicate for Beauty and the Beast with different start years, as this movie most likely aired twice in different parts of the world."
   ]
  },
  {
   "cell_type": "markdown",
   "metadata": {},
   "source": [
    "# Hypothesis Test: Optimal Movie Genre?\n",
    "We hypothesize that the movies which are classified in the family genre have a higher gross revenue than other genres as more people are able to see it in theatres because of age appropriate ratings and themes. They are often light-hearted, feel-good, and moving without the distressing themes that other genres such as horror or drama may have.\n",
    "\n",
    "## Null: Family movies have a lower or equal average gross domestic revenue than the rest of movies \n",
    "\n",
    "\n",
    "## Alternative: Family movies have a significantly greater gross domestic revenue than the rest of movies\n",
    "\n",
    "We will be conducting a one sample t-test at the alpha level of 0.05 to compare the mean gross revenue of family movies versus the mean gross revenue of all movies, to see if this genre sticks out as more successful than others. "
   ]
  },
  {
   "cell_type": "code",
   "execution_count": 112,
   "metadata": {},
   "outputs": [
    {
     "data": {
      "text/plain": [
       "0.05"
      ]
     },
     "execution_count": 112,
     "metadata": {},
     "output_type": "execute_result"
    }
   ],
   "source": [
    "# choose significance level\n",
    "# this means we are 95% sure that we are correct\n",
    "a = 0.05\n",
    "a"
   ]
  },
  {
   "cell_type": "code",
   "execution_count": 113,
   "metadata": {},
   "outputs": [
    {
     "data": {
      "text/plain": [
       "40874293.98954507"
      ]
     },
     "execution_count": 113,
     "metadata": {},
     "output_type": "execute_result"
    }
   ],
   "source": [
    "mu = movies_df['domestic_gross'].mean() # population mean\n",
    "mu"
   ]
  },
  {
   "cell_type": "code",
   "execution_count": 114,
   "metadata": {},
   "outputs": [
    {
     "data": {
      "text/plain": [
       "71722959.89199439"
      ]
     },
     "execution_count": 114,
     "metadata": {},
     "output_type": "execute_result"
    }
   ],
   "source": [
    "sigma = movies_df['domestic_gross'].std() # population standard deviation\n",
    "sigma"
   ]
  },
  {
   "cell_type": "code",
   "execution_count": 122,
   "metadata": {},
   "outputs": [
    {
     "data": {
      "text/plain": [
       "20"
      ]
     },
     "execution_count": 122,
     "metadata": {},
     "output_type": "execute_result"
    }
   ],
   "source": [
    "n = len(movies_df[movies_df['main_genre'] == 'Family']) # sample size\n",
    "n"
   ]
  },
  {
   "cell_type": "code",
   "execution_count": 124,
   "metadata": {},
   "outputs": [
    {
     "data": {
      "text/plain": [
       "858         36686\n",
       "1116      3681811\n",
       "1263     13843771\n",
       "1301      1183658\n",
       "1408        19800\n",
       "1447    356461711\n",
       "1605      9204489\n",
       "2387            0\n",
       "2460     32653000\n",
       "2497            0\n",
       "2555     50151543\n",
       "2620    504014165\n",
       "2622    504014165\n",
       "2642     27467564\n",
       "2766       406216\n",
       "2776    659363944\n",
       "3143            0\n",
       "3144        64148\n",
       "3364            0\n",
       "3408            0\n",
       "Name: domestic_gross, dtype: int32"
      ]
     },
     "execution_count": 124,
     "metadata": {},
     "output_type": "execute_result"
    }
   ],
   "source": [
    "# query domestic gross for just action movies and store it into variable to calculate 'sample' mean\n",
    "sample_family = movies_df.query(\"main_genre == 'Family'\")['domestic_gross']\n",
    "sample_family"
   ]
  },
  {
   "cell_type": "code",
   "execution_count": 125,
   "metadata": {},
   "outputs": [
    {
     "data": {
      "text/plain": [
       "108128333.55"
      ]
     },
     "execution_count": 125,
     "metadata": {},
     "output_type": "execute_result"
    }
   ],
   "source": [
    "x_bar = sample_family.mean() # sample mean\n",
    "x_bar"
   ]
  },
  {
   "cell_type": "code",
   "execution_count": 126,
   "metadata": {},
   "outputs": [
    {
     "data": {
      "text/plain": [
       "67254039.56045493"
      ]
     },
     "execution_count": 126,
     "metadata": {},
     "output_type": "execute_result"
    }
   ],
   "source": [
    "# difference between population mean and sample mean\n",
    "diff = x_bar - mu\n",
    "diff"
   ]
  },
  {
   "cell_type": "code",
   "execution_count": 127,
   "metadata": {},
   "outputs": [
    {
     "data": {
      "text/plain": [
       "19"
      ]
     },
     "execution_count": 127,
     "metadata": {},
     "output_type": "execute_result"
    }
   ],
   "source": [
    "# degrees of freedom\n",
    "deg_of_freedom = n - 1\n",
    "deg_of_freedom"
   ]
  },
  {
   "cell_type": "markdown",
   "metadata": {},
   "source": [
    "## Summary of Data\n",
    "Our sample contains 20 observations, with a mean of 108128333.55 and a standard deviation of 71722959.9 with 19 degrees of freedom. The difference between the sample and population mean is 67254039.6.\n",
    "\n",
    "This means that family movies should be about $108,128,333 higher than the population mean.\n"
   ]
  },
  {
   "cell_type": "code",
   "execution_count": 128,
   "metadata": {},
   "outputs": [
    {
     "data": {
      "text/plain": [
       "4.193485724657692"
      ]
     },
     "execution_count": 128,
     "metadata": {},
     "output_type": "execute_result"
    }
   ],
   "source": [
    "# calculate t statistic\n",
    "t = (x_bar -  mu)/(sigma/np.sqrt(n))\n",
    "t"
   ]
  },
  {
   "cell_type": "code",
   "execution_count": 130,
   "metadata": {},
   "outputs": [
    {
     "data": {
      "text/plain": [
       "<matplotlib.legend.Legend at 0x2185b77f7c0>"
      ]
     },
     "execution_count": 130,
     "metadata": {},
     "output_type": "execute_result"
    },
    {
     "data": {
      "image/png": "[encoded data removed]",
      "text/plain": [
       "<Figure size 576x360 with 1 Axes>"
      ]
     },
     "metadata": {
      "needs_background": "light"
     },
     "output_type": "display_data"
    }
   ],
   "source": [
    "# plot t statistic\n",
    "fig, ax = plt.subplots(figsize=(8,5))\n",
    "\n",
    "x = np.linspace(-5, 5, 200)\n",
    "\n",
    "y = stats.t.pdf(x, deg_of_freedom, 0, 1)\n",
    "\n",
    "ax.plot(x, y, color='#86BC24', label=\"t-distribution PDF\")\n",
    "\n",
    "ax.axvline(t, color='black', linestyle='--', lw=5,label='observed t-statistic')\n",
    "\n",
    "ax.legend()"
   ]
  },
  {
   "cell_type": "code",
   "execution_count": 131,
   "metadata": {},
   "outputs": [
    {
     "data": {
      "text/plain": [
       "1.729132811521367"
      ]
     },
     "execution_count": 131,
     "metadata": {},
     "output_type": "execute_result"
    }
   ],
   "source": [
    "# find critical value\n",
    "t_crit = stats.t.ppf(1 - 0.05, df=19)\n",
    "t_crit"
   ]
  },
  {
   "cell_type": "code",
   "execution_count": 133,
   "metadata": {},
   "outputs": [
    {
     "data": {
      "text/plain": [
       "<matplotlib.legend.Legend at 0x2185b51a3a0>"
      ]
     },
     "execution_count": 133,
     "metadata": {},
     "output_type": "execute_result"
    },
    {
     "data": {
      "image/png": "[encoded data removed]",
      "text/plain": [
       "<Figure size 576x360 with 1 Axes>"
      ]
     },
     "metadata": {
      "needs_background": "light"
     },
     "output_type": "display_data"
    }
   ],
   "source": [
    "# plot rejection region \n",
    "fig, ax = plt.subplots(figsize=(8,5))\n",
    "\n",
    "# Plot the PDF as a line graph\n",
    "# (x and y were created in previous plotting code)\n",
    "ax.plot(x, y, color='#86BC24', label=\"t-distribution PDF\")\n",
    "\n",
    "# Plot a vertical line for our critical t-value\n",
    "ax.axvline(t_crit,color='black',linestyle='--',lw=4,label='critical t-value')\n",
    "\n",
    "# Fill area under line graph where x value is creater than critical t\n",
    "ax.fill_betweenx(y,x,t_crit,where=x > t_crit,color=\"gray\",label=\"rejection region\")\n",
    "\n",
    "ax.legend()"
   ]
  },
  {
   "cell_type": "code",
   "execution_count": 134,
   "metadata": {},
   "outputs": [
    {
     "data": {
      "text/plain": [
       "0.0002462914645891097"
      ]
     },
     "execution_count": 134,
     "metadata": {},
     "output_type": "execute_result"
    }
   ],
   "source": [
    "# calculcate p-value \n",
    "p_value = stats.t.sf(t, df=19)\n",
    "p_value"
   ]
  },
  {
   "cell_type": "code",
   "execution_count": 135,
   "metadata": {},
   "outputs": [
    {
     "data": {
      "text/plain": [
       "True"
      ]
     },
     "execution_count": 135,
     "metadata": {},
     "output_type": "execute_result"
    }
   ],
   "source": [
    "# interpret our p-value in terms of our alpha level \n",
    "p_value < a"
   ]
  },
  {
   "cell_type": "markdown",
   "metadata": {},
   "source": [
    "We can reject the null hypotehssis!"
   ]
  },
  {
   "cell_type": "code",
   "execution_count": 136,
   "metadata": {},
   "outputs": [
    {
     "data": {
      "text/plain": [
       "True"
      ]
     },
     "execution_count": 136,
     "metadata": {},
     "output_type": "execute_result"
    }
   ],
   "source": [
    "# Is there is a statistically significant difference?\n",
    "# Can we reject the null hypothesis?\n",
    "t > t_crit"
   ]
  },
  {
   "cell_type": "markdown",
   "metadata": {},
   "source": [
    "Our p-value is less than the alpha so we must reject the null hypothesis!"
   ]
  },
  {
   "cell_type": "markdown",
   "metadata": {},
   "source": [
    "## Hypothesis Test Results \n",
    "### We reject the null and conclude that family movies have a significantly greater gross domestic revenue than the rest of movies!"
   ]
  },
  {
   "cell_type": "markdown",
   "metadata": {},
   "source": [
    "Taking this into consideration, we make the suggestion that the studio should focus on creating family movies in order to maximize revenue.\n",
    "\n",
    "<img src=\"https://assets.simpleviewinc.com/simpleview/image/upload/c_fill,h_805,q_50,w_1903/v1/clients/eauclaire-redesign/2da0fb8c_23a4_430a_b852_abb92a27f8b0_1d053ad0-78ed-4dc2-8fb2-47f6160893e8.jpg\" width=500>\n",
    "\n",
    "Image Source: https://www.visiteauclaire.com/things-to-do/arts/cinemas/"
   ]
  },
  {
   "cell_type": "code",
   "execution_count": null,
   "metadata": {},
   "outputs": [],
   "source": [
    "sources: https://github.com/learn-co-curriculum/dsc-t-tests"
   ]
  }
 ],
 "metadata": {
  "kernelspec": {
   "display_name": "Python (learn-env)",
   "language": "python",
   "name": "learn-env"
  },
  "language_info": {
   "codemirror_mode": {
    "name": "ipython",
    "version": 3
   },
   "file_extension": ".py",
   "mimetype": "text/x-python",
   "name": "python",
   "nbconvert_exporter": "python",
   "pygments_lexer": "ipython3",
   "version": "3.8.5"
  }
 },
 "nbformat": 4,
 "nbformat_minor": 4
}
